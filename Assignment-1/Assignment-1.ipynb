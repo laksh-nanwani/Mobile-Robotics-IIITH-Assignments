{
 "cells": [
  {
   "cell_type": "markdown",
   "id": "44977504",
   "metadata": {},
   "source": [
    "# Assignment-1: Transformations and representations\n",
    "\n",
    "Team Name: Vision \n",
    "\n",
    "Roll number: 2021701002, 2021702011"
   ]
  },
  {
   "cell_type": "markdown",
   "id": "cd9ce386",
   "metadata": {},
   "source": [
    "# Instructions\n",
    "\n",
    "- Code must be written in Python in Jupyter Notebooks. We highly recommend using anaconda distribution or at the minimum, virtual environments for this assignment. See `Set Up` for detailed step-by-step instructions about the installation setup.\n",
    "- Save all your results in ```results/<question_number>/<sub_topic_number>/```\n",
    "- The **References** section provides you with important resources to solve the assignment.\n",
    "- For this assignment, you will be using Open3D extensively. Refer to [Open3D Documentation](http://www.open3d.org/docs/release/): you can use the in-built methods and **unless explicitly mentioned**, don't need to code from scratch for this assignment. \n",
    "- Make sure your code is modular since you may need to reuse parts for future assignments.\n",
    "- Answer the descriptive questions in your own words with context & clarity. Do not copy answers from online resources or lecture notes.\n",
    "- The **deadline** for this assignment is on 11/09/2021 at 11:55pm. Please note that there will be no extensions.\n",
    "- Plagiarism is **strictly prohibited**.\n"
   ]
  },
  {
   "cell_type": "markdown",
   "id": "e4141170",
   "metadata": {},
   "source": [
    "# Submission Instructions\n",
    "\n",
    "1. Make sure your code runs without any errors after reinitializing the kernel and removing all saved variables.\n",
    "2. After completing your code and saving your results, zip the folder with name as ``Team_<team_name>_MR2021_Assignment_<assignment_number>.zip``"
   ]
  },
  {
   "cell_type": "markdown",
   "id": "99691cb5",
   "metadata": {},
   "source": [
    "# Set Up\n",
    "\n",
    "We highly recommend using anaconda distribution or at the minimum, virtual environments for this assignment. All assignments will be python based, hence familiarising yourself with Python is essential.\n"
   ]
  },
  {
   "cell_type": "markdown",
   "id": "f6858ce6",
   "metadata": {},
   "source": [
    "## Setting up Anaconda environment (Recommended)\n",
    "\n",
    "1. Install Anaconda or Miniconda from [here](https://docs.conda.io/projects/conda/en/latest/user-guide/install/linux.html) depending on your requirements.\n",
    "2. Now simply run `conda env create -f environment.yml` in the current folder to create an environment `mr_assignment1` (`environment.yml` can be found in `misc/`).\n",
    "3. Activate it using `conda activate mr_assignment1`.\n",
    "\n",
    "## Setting up Virtual environment using venv\n",
    "\n",
    "You can also set up a virtual environment using venv\n",
    "\n",
    "1. Run `sudo apt-get install python3-venv` from command line.\n",
    "2. `python3 -m venv ~/virtual_env/mr_assignment1`. (you can set the environment path to anything)\n",
    "3. `source ~/virtual_env/mr_assignment1/bin/activate`\n",
    "4. `pip3 install -r requirements.txt` from the current folder (`requirements.txt` can be found in `misc/`)."
   ]
  },
  {
   "cell_type": "code",
   "execution_count": 1,
   "id": "6888e41b",
   "metadata": {},
   "outputs": [],
   "source": [
    "import open3d as o3d\n",
    "import numpy as np"
   ]
  },
  {
   "cell_type": "markdown",
   "id": "14b858b9",
   "metadata": {},
   "source": [
    "# 1. Getting started with Open3D\n",
    "\n",
    "Open3D is an open-source library that deals with 3D data, such as point clouds, mesh. We'll be using Open3D frequently as we work with point clouds. Let's start with something simple:\n",
    "\n",
    "<img src=\"misc/bunny.jpg\" alt=\"drawing\" width=\"200\"/>\n",
    "\n",
    "1. Read the Stanford Bunny file (in `data/`) given to you and visualise it using Open3D."
   ]
  },
  {
   "cell_type": "code",
   "execution_count": 2,
   "id": "403eee14",
   "metadata": {},
   "outputs": [
    {
     "name": "stdout",
     "output_type": "stream",
     "text": [
      "TriangleMesh with 35947 points and 69451 triangles.\n"
     ]
    }
   ],
   "source": [
    "bunny_mesh = o3d.io.read_triangle_mesh(\"data/bunny.ply\")\n",
    "print(bunny_mesh)\n",
    "o3d.visualization.draw_geometries([bunny_mesh])"
   ]
  },
  {
   "cell_type": "markdown",
   "id": "cc6d49f6",
   "metadata": {},
   "source": [
    "2. Convert the mesh to a point cloud and change the colour of points."
   ]
  },
  {
   "cell_type": "code",
   "execution_count": 3,
   "id": "8fc6ea57",
   "metadata": {},
   "outputs": [],
   "source": [
    "bunny_point_cloud = bunny_mesh.sample_points_uniformly(number_of_points = 10000)\n",
    "bunny_point_cloud.paint_uniform_color([0.5, 0, 0.5])\n",
    "o3d.visualization.draw_geometries([bunny_point_cloud])"
   ]
  },
  {
   "cell_type": "markdown",
   "id": "d2432840",
   "metadata": {},
   "source": [
    "3. Set a predefined viewing angle (using Open3D) for visualization and display the axes while plotting."
   ]
  },
  {
   "cell_type": "code",
   "execution_count": 4,
   "id": "13345869",
   "metadata": {},
   "outputs": [],
   "source": [
    "lookat = [-0.016834371241827677, 0.11011230157594104, -0.0014248118885969614]\n",
    "front = [-0.67881530318456684, 0.12887841581318496, 0.72291087839368451]\n",
    "up = [0.094796198629254091, 0.99162001245616449, -0.08776919517620857]"
   ]
  },
  {
   "cell_type": "code",
   "execution_count": 5,
   "id": "58e0c4cd",
   "metadata": {},
   "outputs": [],
   "source": [
    "frame = o3d.geometry.TriangleMesh.create_coordinate_frame(size = 0.2)\n",
    "\n",
    "o3d.visualization.draw_geometries([frame, bunny_point_cloud], front = front, lookat = lookat, up = up, zoom = 0.7)"
   ]
  },
  {
   "cell_type": "markdown",
   "id": "379821fe",
   "metadata": {},
   "source": [
    "4. Scale, Transform, and Rotate the rabbit (visualise after each step)."
   ]
  },
  {
   "cell_type": "code",
   "execution_count": 6,
   "id": "01ee5430",
   "metadata": {},
   "outputs": [],
   "source": [
    "import copy"
   ]
  },
  {
   "cell_type": "code",
   "execution_count": 7,
   "id": "63d482a5",
   "metadata": {},
   "outputs": [
    {
     "data": {
      "text/plain": [
       "True"
      ]
     },
     "execution_count": 7,
     "metadata": {},
     "output_type": "execute_result"
    }
   ],
   "source": [
    "# Scale about bunny's center\n",
    "bunny_scaled = copy.deepcopy(bunny_point_cloud).scale(1.5, center = bunny_point_cloud.get_center())\n",
    "bunny_scaled.paint_uniform_color([0.68, 0.85, 0.9])\n",
    "o3d.visualization.draw_geometries([frame, bunny_point_cloud, bunny_scaled],front = front, lookat = lookat, up = up, zoom = 0.7)\n",
    "o3d.io.write_point_cloud(\"results/1/4/bunny_scaled_center.pcd\", bunny_scaled)"
   ]
  },
  {
   "cell_type": "code",
   "execution_count": 8,
   "id": "e1ef5edc",
   "metadata": {},
   "outputs": [
    {
     "data": {
      "text/plain": [
       "True"
      ]
     },
     "execution_count": 8,
     "metadata": {},
     "output_type": "execute_result"
    }
   ],
   "source": [
    "# Scale about origin\n",
    "bunny_scaled = copy.deepcopy(bunny_point_cloud).scale(1.5, center = [0,0,0])\n",
    "bunny_scaled.paint_uniform_color([0.68, 0.85, 0.9])\n",
    "o3d.visualization.draw_geometries([frame, bunny_point_cloud, bunny_scaled], front = front, lookat = lookat, up = up, zoom = 0.7)\n",
    "o3d.io.write_point_cloud(\"results/1/4/bunny_scaled_origin.pcd\", bunny_scaled)"
   ]
  },
  {
   "cell_type": "code",
   "execution_count": 9,
   "id": "9b67b97b",
   "metadata": {},
   "outputs": [
    {
     "data": {
      "text/plain": [
       "True"
      ]
     },
     "execution_count": 9,
     "metadata": {},
     "output_type": "execute_result"
    }
   ],
   "source": [
    "# Translate\n",
    "bunny_translated = copy.deepcopy(bunny_point_cloud).translate([-0.1,0.1,-0.1])\n",
    "bunny_translated.paint_uniform_color([0.68, 0.85, 0.9])\n",
    "o3d.visualization.draw_geometries([frame, bunny_point_cloud, bunny_translated],front = front,lookat = lookat,up = up,zoom = 0.7)\n",
    "o3d.io.write_point_cloud(\"results/1/4/bunny_translated.pcd\", bunny_translated)"
   ]
  },
  {
   "cell_type": "code",
   "execution_count": 10,
   "id": "01e9881c",
   "metadata": {},
   "outputs": [
    {
     "data": {
      "text/plain": [
       "True"
      ]
     },
     "execution_count": 10,
     "metadata": {},
     "output_type": "execute_result"
    }
   ],
   "source": [
    "# Rotate about bunny's center\n",
    "bunny_rotated = copy.deepcopy(bunny_point_cloud)\n",
    "R = bunny_point_cloud.get_rotation_matrix_from_xyz((np.pi / 4, np.pi / 4, np.pi / 4))\n",
    "bunny_rotated.rotate(R, center = bunny_point_cloud.get_center())\n",
    "bunny_rotated.paint_uniform_color([0.68, 0.85, 0.9])\n",
    "o3d.visualization.draw_geometries([frame, bunny_point_cloud, bunny_rotated],front = front, lookat = lookat, up = up, zoom = 0.7)\n",
    "o3d.io.write_point_cloud(\"results/1/4/bunny_rotated_center.pcd\", bunny_rotated)"
   ]
  },
  {
   "cell_type": "code",
   "execution_count": 11,
   "id": "28aa3fe9",
   "metadata": {},
   "outputs": [
    {
     "data": {
      "text/plain": [
       "True"
      ]
     },
     "execution_count": 11,
     "metadata": {},
     "output_type": "execute_result"
    }
   ],
   "source": [
    "# Rotate about origin\n",
    "bunny_rotated = copy.deepcopy(bunny_point_cloud)\n",
    "R = bunny_point_cloud.get_rotation_matrix_from_xyz((np.pi / 4, np.pi / 4, np.pi / 4))\n",
    "bunny_rotated.rotate(R, center=[0,0,0])\n",
    "bunny_rotated.paint_uniform_color([0.68, 0.85, 0.9])\n",
    "o3d.visualization.draw_geometries([frame, bunny_point_cloud, bunny_rotated],front = front, lookat = lookat, up = up, zoom = 0.7)\n",
    "o3d.io.write_point_cloud(\"results/1/4/bunny_rotated_origin.pcd\", bunny_rotated)"
   ]
  },
  {
   "cell_type": "markdown",
   "id": "1495b62b",
   "metadata": {},
   "source": [
    "5. Save the point cloud as bunny.pcd."
   ]
  },
  {
   "cell_type": "code",
   "execution_count": 12,
   "id": "77bd5e08",
   "metadata": {},
   "outputs": [
    {
     "data": {
      "text/plain": [
       "True"
      ]
     },
     "execution_count": 12,
     "metadata": {},
     "output_type": "execute_result"
    }
   ],
   "source": [
    "o3d.io.write_point_cloud(\"results/1/5/bunny.pcd\", bunny_point_cloud)"
   ]
  },
  {
   "cell_type": "markdown",
   "id": "133dc08d",
   "metadata": {},
   "source": [
    "# 2. Transformations and representations"
   ]
  },
  {
   "cell_type": "markdown",
   "id": "94a18dd4",
   "metadata": {},
   "source": [
    "## a) Euler angles\n",
    "1. Write a function that returns a rotation matrix given the angles $\\alpha$, $\\beta$, and $\\gamma$ in radians (X-Y-Z)"
   ]
  },
  {
   "cell_type": "code",
   "execution_count": 13,
   "id": "dada28dd",
   "metadata": {},
   "outputs": [],
   "source": [
    "def rotation_matrix(alpha, beta, gamma):\n",
    "    cos_alpha = np.cos(alpha)\n",
    "    sin_alpha = np.sin(alpha)\n",
    "    \n",
    "    cos_beta = np.cos(beta)\n",
    "    sin_beta = np.sin(beta)\n",
    "    \n",
    "    cos_gamma = np.cos(gamma)\n",
    "    sin_gamma = np.sin(gamma)\n",
    "    \n",
    "    Rx_alpha = np.array([[1, 0, 0],\n",
    "                         [0, cos_alpha, -sin_alpha],\n",
    "                         [0, sin_alpha, cos_alpha]])\n",
    "    \n",
    "    Ry_beta = np.array([[cos_beta, 0, sin_beta],\n",
    "                        [0, 1, 0],\n",
    "                        [-sin_beta, 0, cos_beta]])\n",
    "    \n",
    "    Rz_gamma = np.array([[cos_gamma, -sin_gamma, 0],\n",
    "                         [sin_gamma, cos_gamma, 0],\n",
    "                         [0, 0, 1]])\n",
    "    \n",
    "    return np.dot(Rx_alpha, np.dot(Ry_beta, Rz_gamma))\n",
    "\n",
    "# Rx(alpha) * Ry(beta) * Rz(gamma) => xyz"
   ]
  },
  {
   "cell_type": "code",
   "execution_count": 14,
   "id": "1e220bfc",
   "metadata": {},
   "outputs": [
    {
     "name": "stdout",
     "output_type": "stream",
     "text": [
      "[[ 0.61237244 -0.35355339  0.70710678]\n",
      " [ 0.78033009  0.12682648 -0.61237244]\n",
      " [ 0.12682648  0.9267767   0.35355339]]\n"
     ]
    }
   ],
   "source": [
    "print(rotation_matrix(np.pi/3, np.pi/4, np.pi/6))"
   ]
  },
  {
   "cell_type": "code",
   "execution_count": 15,
   "id": "bc036a56",
   "metadata": {},
   "outputs": [
    {
     "name": "stdout",
     "output_type": "stream",
     "text": [
      "[[ 0.61237244 -0.35355339  0.70710678]\n",
      " [ 0.78033009  0.12682648 -0.61237244]\n",
      " [ 0.12682648  0.9267767   0.35355339]]\n"
     ]
    }
   ],
   "source": [
    "R = bunny_point_cloud.get_rotation_matrix_from_xyz((np.pi/3, np.pi/4, np.pi/6))\n",
    "print(R)"
   ]
  },
  {
   "cell_type": "markdown",
   "id": "d06ad2ef",
   "metadata": {},
   "source": [
    "2. Solve for angles using ```fsolve from scipy``` for three initializations of your choice and compare.\n",
    "$$M(\\alpha , \\beta ,\\gamma)=\\left[\\begin{array}{rrr}0.26200263 & -0.19674724 & 0.944799 \\\\0.21984631 & 0.96542533 & 0.14007684 \\\\\n",
    "    -0.93969262 & 0.17101007 & 0.29619813\\end{array}\\right] \n",
    "$$"
   ]
  },
  {
   "cell_type": "code",
   "execution_count": 16,
   "id": "d0ac2085",
   "metadata": {},
   "outputs": [],
   "source": [
    "from scipy.optimize import fsolve"
   ]
  },
  {
   "cell_type": "code",
   "execution_count": 17,
   "id": "08b8a45b",
   "metadata": {},
   "outputs": [],
   "source": [
    "M = np.array([[0.26200263, -0.19674724, 0.944799],\n",
    "              [0.21984631, 0.96542533, 0.14007684],\n",
    "              [-0.93969262, 0.17101007, 0.29619813]])\n",
    "\n",
    "def func_solve_M(angles):\n",
    "#     P = np.array([[1],[1],[1]])\n",
    "    zero_matrix = (rotation_matrix(angles[0], angles[1], angles[2]) - M)\n",
    "    return [zero_matrix[1][1], zero_matrix[2][0], zero_matrix[1][2]]"
   ]
  },
  {
   "cell_type": "code",
   "execution_count": 18,
   "id": "8a0614fb",
   "metadata": {
    "scrolled": true
   },
   "outputs": [
    {
     "name": "stdout",
     "output_type": "stream",
     "text": [
      "[-0.44174664  1.23698061  0.6441    ]\n",
      "[12.02955935  1.29334074 25.42867557]\n",
      "[0.44174664 1.90461205 5.63908531]\n"
     ]
    }
   ],
   "source": [
    "solution1_M = fsolve(func_solve_M, [1,1,1])\n",
    "solution2_M = fsolve(func_solve_M, [-1, -1, -1])\n",
    "solution3_M = fsolve(func_solve_M, [0, 2, 4])\n",
    "print(solution1_M)\n",
    "print(solution2_M)\n",
    "print(solution3_M)"
   ]
  },
  {
   "cell_type": "code",
   "execution_count": null,
   "id": "3c441749",
   "metadata": {},
   "outputs": [],
   "source": []
  },
  {
   "cell_type": "code",
   "execution_count": 19,
   "id": "4de23061",
   "metadata": {},
   "outputs": [
    {
     "name": "stdout",
     "output_type": "stream",
     "text": [
      "\n",
      " [[ 0.26200261 -0.19674724  0.944799  ]\n",
      " [ 0.21984634  0.96542533  0.14007684]\n",
      " [-0.93969262  0.1710101   0.29619812]]\n",
      "[[ True  True  True]\n",
      " [ True  True  True]\n",
      " [ True  True  True]]\n",
      "\n",
      " [[ 0.26200261 -0.07988122  0.96175549]\n",
      " [-0.21984634  0.96542533  0.14007684]\n",
      " [-0.93969262 -0.24813892  0.23538236]]\n",
      "[[ True False False]\n",
      " [False  True  True]\n",
      " [ True False False]]\n",
      "\n",
      "  [[-0.26200261 -0.19674724  0.944799  ]\n",
      " [-0.21984634  0.96542533  0.14007684]\n",
      " [-0.93969262 -0.1710101  -0.29619812]]\n",
      "[[False  True  True]\n",
      " [False  True  True]\n",
      " [ True False False]]\n"
     ]
    }
   ],
   "source": [
    "print(\"\\n\", rotation_matrix(solution1_M[0], solution1_M[1], solution1_M[2]))\n",
    "print(np.isclose(M, rotation_matrix(solution1_M[0], solution1_M[1], solution1_M[2])))\n",
    "\n",
    "print(\"\\n\", rotation_matrix(solution2_M[0], solution2_M[1], solution2_M[2]))\n",
    "print(np.isclose(M, rotation_matrix(solution2_M[0], solution2_M[1], solution2_M[2])))\n",
    "\n",
    "print(\"\\n \", rotation_matrix(solution3_M[0], solution3_M[1], solution3_M[2]))\n",
    "print(np.isclose(M, rotation_matrix(solution3_M[0], solution3_M[1], solution3_M[2])))"
   ]
  },
  {
   "cell_type": "markdown",
   "id": "a05540e9",
   "metadata": {},
   "source": [
    "Initializing $\\alpha$, $\\beta$, and $\\gamma$ to 1,1,1 gives the best solution for M as 0.69813179, 1.22173047, 0.52359887"
   ]
  },
  {
   "cell_type": "code",
   "execution_count": null,
   "id": "0f15a916",
   "metadata": {},
   "outputs": [],
   "source": []
  },
  {
   "cell_type": "markdown",
   "id": "e4c93db4",
   "metadata": {},
   "source": [
    "$$N(\\alpha , \\beta ,\\gamma)=\\left[\\begin{array}{rrr}0 & -0.173648178 &  0.984807753 \\\\0 & 0.984807753 & 0.173648178 \\\\\n",
    "    -1 & 0 & 0\\end{array}\\right] \n",
    "$$"
   ]
  },
  {
   "cell_type": "code",
   "execution_count": 20,
   "id": "fc31b510",
   "metadata": {},
   "outputs": [],
   "source": [
    "N = np.array([[0, -0.173648178, 0.984807753],\n",
    "              [0, 0.984807753, 0.173648178],\n",
    "              [-1, 0, 0]])\n",
    "\n",
    "def func_solve_N(angles):\n",
    "    zero_matrix = (euler_rotation_matrix(angles[0], angles[1], angles[2]) - N)\n",
    "    return [zero_matrix[0][1], zero_matrix[1][1], zero_matrix[1][2]]"
   ]
  },
  {
   "cell_type": "code",
   "execution_count": 21,
   "id": "c0ec3fa3",
   "metadata": {},
   "outputs": [
    {
     "name": "stdout",
     "output_type": "stream",
     "text": [
      "[0.  1.5 0. ]\n",
      "[12.02955935  1.29334074 25.42867557]\n",
      "[0.44174664 1.90461205 5.63908531]\n"
     ]
    },
    {
     "name": "stderr",
     "output_type": "stream",
     "text": [
      "D:\\Anaconda\\envs\\mr_assignment1\\lib\\site-packages\\scipy\\optimize\\minpack.py:175: RuntimeWarning: The iteration is not making good progress, as measured by the \n",
      "  improvement from the last ten iterations.\n",
      "  warnings.warn(msg, RuntimeWarning)\n"
     ]
    }
   ],
   "source": [
    "solution1_N = fsolve(func_solve_M, [0,  1.5,  0])\n",
    "solution2_N = fsolve(func_solve_M, [-1, -1, -1])\n",
    "solution3_N = fsolve(func_solve_M, [0, 2, 4])\n",
    "print(solution1_N)\n",
    "print(solution2_N)\n",
    "print(solution3_N)"
   ]
  },
  {
   "cell_type": "code",
   "execution_count": 22,
   "id": "1565c917",
   "metadata": {},
   "outputs": [
    {
     "name": "stdout",
     "output_type": "stream",
     "text": [
      "[[ 0.0707372   0.          0.99749499]\n",
      " [ 0.          1.          0.        ]\n",
      " [-0.99749499  0.          0.0707372 ]]\n",
      "[[False False False]\n",
      " [ True False False]\n",
      " [False  True False]]\n",
      "[[ 0.26200261 -0.07988122  0.96175549]\n",
      " [-0.21984634  0.96542533  0.14007684]\n",
      " [-0.93969262 -0.24813892  0.23538236]]\n",
      "[[False False False]\n",
      " [False False False]\n",
      " [False False False]]\n",
      "[[-0.26200261 -0.19674724  0.944799  ]\n",
      " [-0.21984634  0.96542533  0.14007684]\n",
      " [-0.93969262 -0.1710101  -0.29619812]]\n",
      "[[False False False]\n",
      " [False False False]\n",
      " [False False False]]\n"
     ]
    }
   ],
   "source": [
    "print(rotation_matrix(solution1_N[0], solution1_N[1], solution1_N[2]))\n",
    "print(np.isclose(N, rotation_matrix(solution1_N[0], solution1_N[1], solution1_N[2])))\n",
    "\n",
    "print(rotation_matrix(solution2_N[0], solution2_N[1], solution2_N[2]))\n",
    "print(np.isclose(N, rotation_matrix(solution2_N[0], solution2_N[1], solution2_N[2])))\n",
    "\n",
    "print(rotation_matrix(solution3_N[0], solution3_N[1], solution3_N[2]))\n",
    "print(np.isclose(N, rotation_matrix(solution3_N[0], solution3_N[1], solution3_N[2])))"
   ]
  },
  {
   "cell_type": "markdown",
   "id": "50577963",
   "metadata": {},
   "source": [
    "I have tried 3 initializations and can't seem to get close to a solution."
   ]
  },
  {
   "cell_type": "markdown",
   "id": "e4a73a1b",
   "metadata": {},
   "source": [
    "3. What is a Gimbal lock? "
   ]
  },
  {
   "cell_type": "markdown",
   "id": "0e43189e",
   "metadata": {},
   "source": [
    "__Ans:__ While using euler angle sets for 3D rotational transformations, when one of the rotations of the non fixed frame gets alligned due to one of the euler angle rotations with an axis of the fixed frame on which a euler rotation has been already applied,any further rotation about this non fixed frame axis would make the same rotation as that of the alligned fixed frame axis and thus no novel roatation is imposed by rotating about that axis of the non fixed frame. This is termed as Gimbal lock. \n",
    "When such a lock occurs, the system ends up losing a degree of freedom (in a sense), as now rotation along these 2 axes changes the orientation of the object in the same way. So now, we have to make a rotation about the 3rd axis to first break out of the gimbal lock, hence increasing the effort for the user. To obtain some desired orientations when in gimbal lock situation, we may need to make rotations along all 3 axes together, which might lead to undesired and skewed trajectories, causing problems for users, like animators.\n",
    "\n",
    "Reference - https://www.youtube.com/watch?v=zc8b2Jo7mno"
   ]
  },
  {
   "cell_type": "markdown",
   "id": "71b3ee63",
   "metadata": {},
   "source": [
    "4. Show an example where a Gimbal lock occurs and visualize the Gimbal lock on the given bunny point cloud. You have to show the above by **animation** (cube rotating along each axis one by one).\n",
    "    - *Hint: Use Open3D's non-blocking visualization and discretize the rotation to simulate the animation. For example, if you want to rotate by $30^{\\circ}$ around a particular axis, do in increments of $5^{\\circ}$ 6 times to make it look like an animation.*"
   ]
  },
  {
   "cell_type": "code",
   "execution_count": 23,
   "id": "af8e472c",
   "metadata": {},
   "outputs": [],
   "source": [
    "def visualize_gimbal_lock(opc, n):\n",
    "    v = o3d.visualization.Visualizer()\n",
    "    v.create_window()\n",
    "#     n = 100\n",
    "#     pc = o3d.geometry.TriangleMesh.create_box(0.05,0.05,0.05)\n",
    "    pc = copy.deepcopy(opc)\n",
    "    center = pc.get_center()\n",
    "    v.add_geometry(pc)\n",
    "\n",
    "    theta = np.pi / n\n",
    "    \n",
    "#     coordinate_frame1 = o3d.geometry.TriangleMesh.create_coordinate_frame(size = 0.1, origin = center)\n",
    "#     v.add_geometry(coordinate_frame1)\n",
    "    \n",
    "    cylx = o3d.geometry.TriangleMesh.create_cylinder(radius=0.05, height=0.00101)\n",
    "    cylx.translate(center)\n",
    "    cylx.paint_uniform_color([1,0,0])\n",
    "    cylx.rotate(cylx.get_rotation_matrix_from_xyz([0, np.pi/2, 0]), center)\n",
    "    v.add_geometry(cylx)\n",
    "    \n",
    "    cyly = o3d.geometry.TriangleMesh.create_cylinder(radius=0.06, height=0.001)\n",
    "    cyly.translate(center)\n",
    "    cyly.paint_uniform_color([0,1,0])\n",
    "    cyly.rotate(cyly.get_rotation_matrix_from_xyz([np.pi/2, 0, 0]), center)\n",
    "    v.add_geometry(cyly)\n",
    "    \n",
    "    cylz = o3d.geometry.TriangleMesh.create_cylinder(radius=0.07, height=0.001)\n",
    "    cylz.translate(center)\n",
    "    cylz.paint_uniform_color([0,0,1])\n",
    "    v.add_geometry(cylz)   \n",
    "\n",
    "    for i in range(n):\n",
    "        R = rotation_matrix(0, theta/2, 0)\n",
    "        pc.rotate(R, center = center)\n",
    "        cylx.rotate(R, center = center)\n",
    "        cyly.rotate(R, center = center)\n",
    "        \n",
    "        v.update_geometry(pc)\n",
    "        v.update_geometry(cylx)\n",
    "        v.update_geometry(cyly)\n",
    "        v.poll_events()\n",
    "        v.update_renderer()\n",
    "        \n",
    "    for i in range(n):\n",
    "        R = rotation_matrix(0, 0, theta)\n",
    "        pc.rotate(R, center = center)\n",
    "        cylx.rotate(R, center = center)\n",
    "    \n",
    "        v.update_geometry(pc)\n",
    "        v.update_geometry(cylx)      \n",
    "        v.poll_events()\n",
    "        v.update_renderer()\n",
    "        \n",
    "    for i in range(n):\n",
    "        R = rotation_matrix(0, 0, -theta)\n",
    "        pc.rotate(R, center = center)\n",
    "        cylx.rotate(R, center = center)\n",
    "    \n",
    "        v.update_geometry(pc)\n",
    "        v.update_geometry(cylx)      \n",
    "        v.poll_events()\n",
    "        v.update_renderer()   \n",
    "        \n",
    "    for i in range(n):\n",
    "        R = rotation_matrix(0, 0, theta)\n",
    "        pc.rotate(R, center = center)\n",
    "        cylx.rotate(R, center = center)\n",
    "        cyly.rotate(R, center = center)\n",
    "        cylz.rotate(R, center = center)\n",
    "    \n",
    "        v.update_geometry(pc)\n",
    "        v.update_geometry(cylx) \n",
    "        v.update_geometry(cyly)  \n",
    "        v.update_geometry(cylz)      \n",
    "        v.poll_events()\n",
    "        v.update_renderer()  \n",
    "        \n",
    "    for i in range(n):\n",
    "        R = rotation_matrix(0, 0, -theta)\n",
    "        pc.rotate(R, center = center)\n",
    "        cylx.rotate(R, center = center)\n",
    "        cyly.rotate(R, center = center)\n",
    "        cylz.rotate(R, center = center)\n",
    "    \n",
    "        v.update_geometry(pc)\n",
    "        v.update_geometry(cylx) \n",
    "        v.update_geometry(cyly)  \n",
    "        v.update_geometry(cylz)  \n",
    "        v.poll_events()\n",
    "        v.update_renderer()  \n",
    "        \n",
    "    v.run()\n",
    "#     v.destroy_window()"
   ]
  },
  {
   "cell_type": "code",
   "execution_count": 24,
   "id": "59158811",
   "metadata": {},
   "outputs": [],
   "source": [
    "bunny_point_cloud = o3d.io.read_point_cloud(\"results/1/5/bunny.pcd\")"
   ]
  },
  {
   "cell_type": "code",
   "execution_count": 25,
   "id": "e7462a91",
   "metadata": {},
   "outputs": [],
   "source": [
    "visualize_gimbal_lock(bunny_point_cloud, 150)"
   ]
  },
  {
   "cell_type": "markdown",
   "id": "b2306bb6",
   "metadata": {},
   "source": [
    "## b) Quaternions\n",
    "\n",
    "1. What makes Quaternions popular in graphics? "
   ]
  },
  {
   "cell_type": "markdown",
   "id": "a7cd2d99",
   "metadata": {},
   "source": [
    "__Ans:__ Quaternions do not have the problem of gimbal lock and make the interpolations of the 3D transformations smooth when compared to the jerky interpolations of the euler angles. Also in generating coordinates of the texture maps, quaternions help in just scaling while preserving the angles without getting distorted when a texture is being pasted onto a 3D curved surface."
   ]
  },
  {
   "cell_type": "markdown",
   "id": "ce1e5732",
   "metadata": {},
   "source": [
    "2. Convert a rotation matrix to quaternion and vice versa. Do not use inbuilt libraries for this question."
   ]
  },
  {
   "cell_type": "code",
   "execution_count": 26,
   "id": "c43edf52",
   "metadata": {},
   "outputs": [],
   "source": [
    "def rotation_matrix_to_quaternion(M):\n",
    "    trace = np.trace(M)\n",
    "    constant = (1-trace)/4\n",
    "    \n",
    "    q0 = np.sqrt((trace+1)/4)\n",
    "    q1 = np.sqrt(M[0][0]/2 + constant)\n",
    "    q2 = np.sqrt(M[1][1]/2 + constant)\n",
    "    q3 = np.sqrt(M[2][2]/2 + constant)\n",
    "    \n",
    "    q1 = np.copysign(q1, M[2][1] - M[1][2])\n",
    "    q2 = np.copysign(q2, M[0][2] - M[2][0])\n",
    "    q3 = np.copysign(q3, M[1][0] - M[0][1])\n",
    "    \n",
    "    return np.array([q0, q1, q2, q3])"
   ]
  },
  {
   "cell_type": "code",
   "execution_count": 27,
   "id": "218bed12",
   "metadata": {},
   "outputs": [],
   "source": [
    "def quaternion_to_rotation_matrix(q):\n",
    "    q0q1 = q[0]*q[1]\n",
    "    q2q3 = q[2]*q[3]\n",
    "    \n",
    "    q0q2 = q[0]*q[2]\n",
    "    q1q3 = q[1]*q[3]\n",
    "    \n",
    "    q0q3 = q[0]*q[3]\n",
    "    q1q2 = q[1]*q[2]\n",
    "    \n",
    "    q0_s = np.square(q[0]) - 0.5\n",
    "    \n",
    "    return 2 * np.array([[q0_s + np.square(q[1]), q1q2 - q0q3, q0q2 + q1q3],\n",
    "                         [q0q3 + q1q2, q0_s + np.square(q[2]), q2q3 - q0q1],\n",
    "                         [q1q3 - q0q2, q0q1 + q2q3, q0_s + np.square(q[3])]])"
   ]
  },
  {
   "cell_type": "code",
   "execution_count": 28,
   "id": "4efb9e9b",
   "metadata": {},
   "outputs": [
    {
     "data": {
      "text/plain": [
       "array([0.70710678, 0.2236068 , 0.        , 0.67082039])"
      ]
     },
     "execution_count": 28,
     "metadata": {},
     "output_type": "execute_result"
    }
   ],
   "source": [
    "R = np.array([[0.1, -0.9487, 0.3],\n",
    "              [0.9487, 0, -0.3162],\n",
    "              [0.3, 0.3162, 0.9]])\n",
    "rotation_matrix_to_quaternion(R)"
   ]
  },
  {
   "cell_type": "code",
   "execution_count": 29,
   "id": "5fac2409",
   "metadata": {},
   "outputs": [
    {
     "data": {
      "text/plain": [
       "array([[ 0.,  0., -1.],\n",
       "       [ 1.,  0.,  0.],\n",
       "       [ 0., -1.,  0.]])"
      ]
     },
     "execution_count": 29,
     "metadata": {},
     "output_type": "execute_result"
    }
   ],
   "source": [
    "quaternion_to_rotation_matrix(np.array([1/2,-1/2,-1/2,1/2]))"
   ]
  },
  {
   "cell_type": "code",
   "execution_count": 30,
   "id": "ee984fbc",
   "metadata": {},
   "outputs": [
    {
     "data": {
      "text/plain": [
       "array([ 0.5, -0.5, -0.5,  0.5])"
      ]
     },
     "execution_count": 30,
     "metadata": {},
     "output_type": "execute_result"
    }
   ],
   "source": [
    "rotation_matrix_to_quaternion(quaternion_to_rotation_matrix(np.array([1/2,-1/2,-1/2,1/2])))"
   ]
  },
  {
   "cell_type": "markdown",
   "id": "9ab3526c",
   "metadata": {},
   "source": [
    "3. Perform matrix multiplication of two $\\mathcal{R}_{3 \\times 3}$ rotation matrices and perform the same transformation in the quaternion space. Verify if the final transformation obtained in both the cases are the same."
   ]
  },
  {
   "cell_type": "code",
   "execution_count": 31,
   "id": "62e0e4dd",
   "metadata": {},
   "outputs": [],
   "source": [
    "def quaternion_mult(q1,q2):\n",
    "    qw = q1[0] * q2[0] - q1[1] * q2[1] - q1[2] * q2[2] - q1[3] * q2[3]\n",
    "    qx = q1[0] * q2[1] + q1[1] * q2[0] + q1[2] * q2[3] - q1[3] * q2[2]\n",
    "    qy = q1[0] * q2[2] + q1[2] * q2[0] + q1[3] * q2[1] - q1[1] * q2[3]\n",
    "    qz = q1[0] * q2[3] + q1[3] * q2[0] + q1[1] * q2[2] - q1[2] * q2[1]\n",
    "    return np.array([qw, qx, qy, qz])\n",
    "\n",
    "def quaternion_conjugate(q):\n",
    "    return np.array([q[0], -q[1], -q[2], -q[3]])\n",
    "\n",
    "def transform_point(q, p):\n",
    "    return quaternion_mult(quaternion_mult(q, p), quaternion_conjugate(q))"
   ]
  },
  {
   "cell_type": "code",
   "execution_count": 32,
   "id": "230b05fe",
   "metadata": {},
   "outputs": [
    {
     "name": "stdout",
     "output_type": "stream",
     "text": [
      "[[0.]\n",
      " [1.]\n",
      " [0.]]\n",
      "\n",
      " [[0.]\n",
      " [1.]\n",
      " [0.]]\n"
     ]
    }
   ],
   "source": [
    "P = np.array([[1],[0],[0]])\n",
    "\n",
    "R1 = np.array([[0., -1, 0],\n",
    "               [1, 0, 0],\n",
    "               [0, 0, 1]])\n",
    "R2 = np.array([[1, 0, 0],\n",
    "               [0, 0, -1],\n",
    "               [0, 1, 0]])\n",
    "R = np.dot(R1,R2)\n",
    "P1 = np.dot(R, P)\n",
    "print(P1)\n",
    "\n",
    "Pq = np.array([0, 1, 0, 0])\n",
    "q1 = rotation_matrix_to_quaternion(R1)\n",
    "q2 = rotation_matrix_to_quaternion(R2)\n",
    "\n",
    "q = quaternion_mult(q1, q2)\n",
    "P2q = transform_point(q, Pq)\n",
    "P2 = np.transpose([P2q[1:]])\n",
    "print(\"\\n\", P2)"
   ]
  },
  {
   "cell_type": "markdown",
   "id": "2c84c281",
   "metadata": {},
   "source": [
    "As we can see, the operations in both the rotation space and quaternion space return the same target point vector for the same input point vector\n",
    "<br>\n",
    "<br>"
   ]
  },
  {
   "cell_type": "markdown",
   "id": "fcdb7f86",
   "metadata": {},
   "source": [
    "4. Try to interpolate any 3D model (cube / bunny / not sphere obviously!!) between two rotation matrices and visualize!\n",
    "\n",
    "The above questions require you to **code your own functions** and **only verify** using inbuilt functions."
   ]
  },
  {
   "cell_type": "code",
   "execution_count": 33,
   "id": "2cdcb91b",
   "metadata": {},
   "outputs": [],
   "source": [
    "def visualize_interpolation_between_rotation_matrices(R1_angles, R2_angles, n, opc):    \n",
    "    v = o3d.visualization.Visualizer()\n",
    "    v.create_window()\n",
    "    \n",
    "    pc = copy.deepcopy(opc)\n",
    "    R = rotation_matrix(R1_angles[0], R1_angles[1], R1_angles[2])\n",
    "    pc.rotate(R, center=[0,0,0])\n",
    "    v.add_geometry(pc)\n",
    "    coordinate_frame = o3d.geometry.TriangleMesh.create_coordinate_frame(size = 0.1)\n",
    "    v.add_geometry(coordinate_frame)\n",
    "    theta = (R2_angles - R1_angles) / n\n",
    "    R = rotation_matrix(theta[0], theta[1], theta[2])\n",
    "    \n",
    "    for i in range(n):\n",
    "        pc.rotate(R, center = [0,0,0])\n",
    "        v.update_geometry(pc)\n",
    "        v.poll_events()\n",
    "        v.update_renderer()\n",
    "    v.run()\n",
    "#     v.destroy_window()"
   ]
  },
  {
   "cell_type": "code",
   "execution_count": 34,
   "id": "3f09b04b",
   "metadata": {},
   "outputs": [],
   "source": [
    "bunny_point_cloud = o3d.io.read_point_cloud(\"results/1/5/bunny.pcd\")\n",
    "visualize_interpolation_between_rotation_matrices(np.array([0,0,0]), np.array([np.pi/2, np.pi/2, 0]), 200, bunny_point_cloud)"
   ]
  },
  {
   "cell_type": "markdown",
   "id": "255379ee",
   "metadata": {},
   "source": [
    "## c) Exponential maps (Bonus)\n",
    "\n",
    "1. What is the idea behind exponential map representation of rotation matrices?"
   ]
  },
  {
   "cell_type": "markdown",
   "id": "c450d7f1",
   "metadata": {},
   "source": [
    "__Ans:__ We can represent the rotation as an a motion where the object travels with an angular velocity w for some theta seconds. This generalizes the rotation to rigid body dynamics."
   ]
  },
  {
   "cell_type": "markdown",
   "id": "e50cdd4b",
   "metadata": {},
   "source": [
    "2. Perform matrix exponentiation and obtain the rotation matrix to rotate a vector $P$ around $\\omega$ for $\\theta$ seconds.\n",
    "$$\n",
    "\\omega = \\begin{bmatrix}2 \\\\ 1 \\\\ 15 \\end{bmatrix}\n",
    "$$\n",
    "\n",
    "$$\n",
    "\\theta = 4.1364\n",
    "$$"
   ]
  },
  {
   "cell_type": "code",
   "execution_count": 35,
   "id": "94a81217",
   "metadata": {},
   "outputs": [],
   "source": [
    "def get_w_hat(w):\n",
    "    return np.array([[0, -w[2][0], w[1][0]],\n",
    "                     [w[2][0], 0, -w[0][0]],\n",
    "                     [-w[1][0], w[0][0], 0]])\n",
    "\n",
    "def matrix_exponentiation(w, theta):\n",
    "    w_hat = get_w_hat(w)\n",
    "    mod_w = np.linalg.norm(w)\n",
    "    mod_w_sqr = np.square(mod_w)\n",
    "#     print(mod_w)\n",
    "    wt = mod_w * theta\n",
    "    R = np.identity(3) + np.sin(wt) * w_hat / mod_w  + (1-np.cos(wt)) * np.dot(w_hat, w_hat) / mod_w_sqr\n",
    "    return R"
   ]
  },
  {
   "cell_type": "code",
   "execution_count": 36,
   "id": "2316877f",
   "metadata": {},
   "outputs": [
    {
     "name": "stdout",
     "output_type": "stream",
     "text": [
      "[[ 0.99506737  0.09902323 -0.00594386]\n",
      " [-0.09893593  0.99500189  0.01352466]\n",
      " [ 0.00725341 -0.01286989  0.99989087]]\n"
     ]
    }
   ],
   "source": [
    "w = np.array([[2], [1], [15]])\n",
    "theta = 4.1364\n",
    "R = matrix_exponentiation(w, theta)\n",
    "print(R)\n",
    "# print(np.linalg.det(R))"
   ]
  },
  {
   "cell_type": "markdown",
   "id": "3adc999e",
   "metadata": {},
   "source": [
    "3. Compute the logarithmic map (SO(3) to so(3)) of the rotation matrix to obtain the rotation vector and the angle of rotation\n",
    "$$\n",
    "\\begin{bmatrix}\n",
    "0.1 &  -0.9487 & 0.3 \\\\\n",
    "0.9487 & 0.  & -0.3162 \\\\\n",
    "0.3   &  0.3162  & 0.9 \n",
    "\\end{bmatrix}\n",
    "$$\n",
    "You can use inbuilt libraries **only to verify** your results."
   ]
  },
  {
   "cell_type": "code",
   "execution_count": 37,
   "id": "d67f3090",
   "metadata": {},
   "outputs": [],
   "source": [
    "def angle_of_rotation(R):\n",
    "    return np.arccos((np.trace(R)-1)/2)\n",
    "\n",
    "def rotation_vector(R):\n",
    "    return 0.5 / np.sin(angle_of_rotation(R)) * np.array([[R[2][1] - R[1][2]], [R[0][2] - R[2][0]], [R[1][0] - R[0][1]]])\n",
    "\n",
    "# def log_R(R):\n",
    "#     theta = angle_of_rotation(R)\n",
    "#     if (theta != 0):\n",
    "#         return theta / (2*np.sin(theta)) * (R - np.transpose(R))\n",
    "#     return np.zeros(R.shape)"
   ]
  },
  {
   "cell_type": "code",
   "execution_count": 38,
   "id": "34790988",
   "metadata": {},
   "outputs": [
    {
     "name": "stdout",
     "output_type": "stream",
     "text": [
      "theta = 1.5707963267948966\n",
      "\n",
      "w = \n",
      " [[0.3162]\n",
      " [0.    ]\n",
      " [0.9487]]\n"
     ]
    }
   ],
   "source": [
    "R = np.array([[0.1, -0.9487, 0.3],\n",
    "              [0.9487, 0, -0.3162],\n",
    "              [0.3, 0.3162, 0.9]])\n",
    "\n",
    "theta = angle_of_rotation(R)\n",
    "w = rotation_vector(R)\n",
    "# logR = log_R(R)\n",
    "\n",
    "print(\"theta =\",theta) \n",
    "print(\"\\nw = \\n\", w)\n",
    "# print(\"\\nlog(R) = \\n\", logR)"
   ]
  },
  {
   "cell_type": "code",
   "execution_count": 39,
   "id": "e617cd96",
   "metadata": {},
   "outputs": [],
   "source": [
    "# matrix_exponentiation(w, theta)"
   ]
  },
  {
   "cell_type": "markdown",
   "id": "10ea3bdb",
   "metadata": {},
   "source": [
    "# 3. Data representations"
   ]
  },
  {
   "cell_type": "markdown",
   "id": "e35d4380",
   "metadata": {},
   "source": [
    "## a) Octomaps\n",
    "\n",
    "1. Why is an Octomap memory efficient?"
   ]
  },
  {
   "cell_type": "markdown",
   "id": "210b8295",
   "metadata": {},
   "source": [
    "__Ans:__ As an octomap disintegrates the available voxel space into smaller voxels only when there is a conflict in the occupancy of      that voxel space, it hence makes it efficient as we are going in details only when it is required and the extent of details decides the data to be stored. Also multi-resolution voxel grids can be formed.  "
   ]
  },
  {
   "cell_type": "markdown",
   "id": "74b56097",
   "metadata": {},
   "source": [
    "2. When do we update an Octomap and why?"
   ]
  },
  {
   "cell_type": "markdown",
   "id": "4eb88ed5",
   "metadata": {},
   "source": [
    "__Ans:__ We update an Octomap in dynamic situations as the occupancy of the space keeps changing with time and the probabilities for the voxels need to be rechecked for the confidence in occupancy of them. If not it could even lead to miscalculating the confidences of occupancy of the neighbouring voxels. "
   ]
  },
  {
   "cell_type": "markdown",
   "id": "a46f4d97",
   "metadata": {},
   "source": [
    "3. When would you likely use an octomap instead of a point cloud?"
   ]
  },
  {
   "cell_type": "markdown",
   "id": "fc3cf7ea",
   "metadata": {},
   "source": [
    "__Ans:__ Octomap enables sensor data fusion and probabilistic occupancy model can be used to integrate data whereas the pointcloud consumes more memory and also does not differentiate between unmapped area and free space. When there is only need of knowing the occupancy of some space in scenarios like obstacle avoidance,we do not care for the precise location of the surface points of the obstacle as we take care of the errors in the rough surface generated by octomap by having a minimum distance to the surface for avoiding the obstacle as we try to interpolate a smooth transition while avoiding the obstacle."
   ]
  },
  {
   "cell_type": "markdown",
   "id": "7769f15c",
   "metadata": {},
   "source": [
    "## b) Signed Distance Functions\n",
    "\n",
    "1. How do we determine object surfaces using SDF?"
   ]
  },
  {
   "cell_type": "markdown",
   "id": "bd9ae057",
   "metadata": {},
   "source": [
    "__Ans:__ For deciding the cells containing the surface aggregated projected distance and aggregate weight are taken as the parameters of SDF. The rays projected from the sensor will reach the surface passing through the voxels, the voxels which completely intersect the projected rays are considered to be outside the surface (SDF greater than zero) whereas those which let the rays partially intersect are the surface voxels (SDF equal to zero). The distance and weights of these surface voxels are stored.\n",
    "\n",
    "SDF = 0 => object surface\n",
    "<br>SDF > 0 => outside\n",
    "<br>SDF < 0 => inside"
   ]
  },
  {
   "cell_type": "markdown",
   "id": "baf0664d",
   "metadata": {},
   "source": [
    "2. How do we aggregate views from multiple cameras? (just a general overview is fine)"
   ]
  },
  {
   "cell_type": "markdown",
   "id": "e72dc726",
   "metadata": {},
   "source": [
    "__Ans:__ From each view we get projected distance which is the difference between distance of the surface from the camera and the distance of the voxel from the camera along the given view.This single distance is initiated with zero weight and is iterated further to aggregate the projected distances obtained from different cameras or different poses of the same camera while updating the aggregate weight by adding up each weight at every iteration.Then finally obtained aggregated distance and weight can be used as parameters of SDF."
   ]
  },
  {
   "cell_type": "markdown",
   "id": "5d6b9b26",
   "metadata": {},
   "source": [
    "3. Which preserves details better? Voxels or SDF? Why?"
   ]
  },
  {
   "cell_type": "markdown",
   "id": "b0919b51",
   "metadata": {},
   "source": [
    "__Ans:__ SDF preserves details better,as in the case of voxels the confidence in occupancy depends on the confidence in occupancy of the neighbouring voxels whereas in SDF we directly relate every cell with the distance from the surface and the weight associated with it.So it actually tells if the cells are inside or outside the surface and also we can adjust these weights for better results."
   ]
  },
  {
   "cell_type": "markdown",
   "id": "ee2465c8",
   "metadata": {},
   "source": [
    "4. What’s an advantage of SDF over a point cloud?"
   ]
  },
  {
   "cell_type": "markdown",
   "id": "d27fc75a",
   "metadata": {},
   "source": [
    "__Ans:__ In SDF the algorithm supports for truncation where the cells which are considerably far from the surface can be eliminated.Whereas in pointcloud we would have to store initially all the points and then compute the distances to sample them down."
   ]
  },
  {
   "cell_type": "markdown",
   "id": "f7dfc579",
   "metadata": {},
   "source": [
    "# References and Resources\n",
    "\n",
    "1. Gimbal locks and quaternions: https://youtu.be/YF5ZUlKxSgE\n",
    "2. Exponential map: \n",
    "    1. 3 Blue 1 Brown: https://youtu.be/O85OWBJ2ayo\n",
    "    2. Northwestern Robotics: https://youtu.be/v_KBHaG0mas\n",
    "3. Bunny ply is taken from: http://graphics.im.ntu.edu.tw/~robin/courses/cg03/model/"
   ]
  }
 ],
 "metadata": {
  "kernelspec": {
   "display_name": "Python 3",
   "language": "python",
   "name": "python3"
  },
  "language_info": {
   "codemirror_mode": {
    "name": "ipython",
    "version": 3
   },
   "file_extension": ".py",
   "mimetype": "text/x-python",
   "name": "python",
   "nbconvert_exporter": "python",
   "pygments_lexer": "ipython3",
   "version": "3.8.11"
  }
 },
 "nbformat": 4,
 "nbformat_minor": 5
}
